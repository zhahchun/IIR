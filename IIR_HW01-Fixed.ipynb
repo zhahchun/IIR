{
 "cells": [
  {
   "cell_type": "code",
   "execution_count": 1,
   "metadata": {},
   "outputs": [],
   "source": [
    "import xml.etree.ElementTree as et\n",
    "import textwrap as tw\n",
    "import pandas as pd\n",
    "from termcolor import colored\n",
    "import re\n",
    "from nltk.tokenize import word_tokenize, sent_tokenize, RegexpTokenizer\n",
    "import json\n",
    "import matplotlib.pyplot as plt\n",
    "import os\n",
    "from string import punctuation"
   ]
  },
  {
   "cell_type": "code",
   "execution_count": 2,
   "metadata": {},
   "outputs": [
    {
     "name": "stdout",
     "output_type": "stream",
     "text": [
      "['test1-2.xml', 'test1.xml', 'test2.xml', 'test3.xml']\n",
      "['test4.json', 'test5.json', 'test6.json']\n"
     ]
    }
   ],
   "source": [
    "path = 'doc/'\n",
    "files = os.listdir(path)\n",
    "ls_xml = []\n",
    "ls_json = []\n",
    "\n",
    "for i in files:\n",
    "    if '.xml' in i:\n",
    "        ls_xml.append(i)\n",
    "    elif '.json' in i:\n",
    "        ls_json.append(i)\n",
    "\n",
    "print(ls_xml)\n",
    "print(ls_json)"
   ]
  },
  {
   "cell_type": "code",
   "execution_count": 3,
   "metadata": {},
   "outputs": [],
   "source": [
    "def get_xml_content(ls_xml, path, df):\n",
    "    \n",
    "    for xml in ls_xml:\n",
    "        tree = et.parse(path + xml)\n",
    "        root = tree.getroot()\n",
    "        ct_at =0        \n",
    "        \n",
    "        for x in root:\n",
    "            ct_as =0\n",
    "            # print('xml:',xml,'ct_at:', ct_at)\n",
    "            \n",
    "            if x.tag == 'PubmedArticle':\n",
    "                \n",
    "                # Article的位置不固定\n",
    "                cnt = 0\n",
    "                for child in root[ct_at][0]:\n",
    "                    if child.tag == 'Article':\n",
    "                        break\n",
    "                    cnt += 1\n",
    "                \n",
    "                for y in root[ct_at][0][cnt]:\n",
    "                    # print(y.tag)\n",
    "                    title = ''\n",
    "                    abstract = ''\n",
    "                    \n",
    "                    if y.tag == 'ArticleTitle':\n",
    "                        title = y.text\n",
    "                        # print('Title:',title)\n",
    "                        df.loc[len(df)] = [xml, ct_at, title, abstract]\n",
    "\n",
    "                    elif y.tag == 'Abstract':\n",
    "                        for z in root[ct_at][0][cnt][ct_as].findall('AbstractText'):\n",
    "                            temp = tw.fill(z.text, initial_indent = '  ')\n",
    "                            temp = temp + '\\n'\n",
    "                            abstract += temp\n",
    "\n",
    "                        # print(abstract)\n",
    "                        df.loc[len(df)-1, 'Content'] = abstract          \n",
    "                        break\n",
    "                        \n",
    "                    ct_as += 1\n",
    "                    \n",
    "            ct_at += 1\n",
    "    return df"
   ]
  },
  {
   "cell_type": "code",
   "execution_count": 4,
   "metadata": {},
   "outputs": [],
   "source": [
    "def get_xml_with_kw(df, df_m, kw):\n",
    "    \n",
    "    for i, row in df.iterrows():\n",
    "        xml = row['XML']\n",
    "        ID = row['ID']\n",
    "        # print(xml,ID)\n",
    "        title = row['Title']\n",
    "        content = row['Content']\n",
    "        \n",
    "        if kw in title or kw in content:\n",
    "\n",
    "            found = df_m[df_m['XML'].str.contains(xml,na=False)].empty\n",
    "            # print('concat:',found)\n",
    "            \n",
    "            if found is True:\n",
    "                df_m = pd.concat([df_m, df.loc[df['XML'] == xml]], axis=0, ignore_index=True)        \n",
    "\n",
    "        # else:\n",
    "            # print('The keyword can\\'t be found.' )\n",
    "        \n",
    "    return df_m"
   ]
  },
  {
   "cell_type": "code",
   "execution_count": 5,
   "metadata": {},
   "outputs": [],
   "source": [
    "def get_xml_statistics(df_m, df_f, kw):\n",
    "    \n",
    "    xml = ''\n",
    "    n_kw = n_c = n_w = n_s = 0\n",
    "    colored_text = []\n",
    "    \n",
    "    for i, row in df_m.iterrows():\n",
    "        \n",
    "        if xml != row['XML'] :\n",
    "            \n",
    "            if i != 0:\n",
    "                df_f.loc[len(df_f)] = [xml,n_kw, n_c, n_w, n_s]\n",
    "                n_kw = n_c = n_w = n_s = 0\n",
    "                \n",
    "            xml = row['XML']\n",
    "\n",
    "        ID = row['ID']\n",
    "        print(xml,ID)\n",
    "        title = row['Title']\n",
    "        content = row['Content']\n",
    "\n",
    "        # n_c += len(title)\n",
    "        # words = word_tokenize(title)\n",
    "        # words =[w.lower() for w in words if w.isalpha()]\n",
    "        # # print(words)\n",
    "        # n_w += len(words)\n",
    "        # n_s += len(sent_tokenize(title)) \n",
    "        \n",
    "        for t in re.split(r'(;|,|:|\\s|[()])\\s*',title):\n",
    "            \n",
    "            if t == kw:\n",
    "                n_kw += 1\n",
    "                colored_text.append(colored(t, 'grey','on_yellow'))\n",
    "                \n",
    "            else:\n",
    "                colored_text.append(t)\n",
    "                \n",
    "        title = \"\".join(colored_text)\n",
    "        colored_text = []\n",
    "        print(title)\n",
    "        df_m.loc[(df_m.XML == xml) & (df_m.ID == ID),'Title'] = title\n",
    "        # print('n_kw:', n_kw,'n_c:', n_c,'n_w:', n_w, 'n_s:', n_s, '\\n')\n",
    "        \n",
    "        content = content.replace(\"\\n\", \" \")\n",
    "        content = content.strip()\n",
    "        # s_ls = []\n",
    "        # regex = r'([A-z][^.!?]*[.!?]*\"?)'\n",
    "        # for s in re.findall(regex, content):\n",
    "        #    print(s)\n",
    "        #    s_ls.append(s)\n",
    "        s = re.split(r'(?<=[^A-Z].[.?]) +(?=[A-Z])', content)\n",
    "        print(s)    \n",
    "        n_s += len(s) \n",
    "        content_p = ''.join(c for c in content if c not in punctuation)\n",
    "        n_c += len(content_p)-content_p.count(' ')\n",
    "        \n",
    "        words = word_tokenize(content_p)\n",
    "        # print(words)\n",
    "        n_w += len(words)\n",
    "                  \n",
    "\n",
    "        for t in re.split(r'(;|,|:|\\s|[()])\\s*',content):\n",
    "            \n",
    "            if t == kw:\n",
    "                n_kw += 1\n",
    "                colored_text.append(colored(t, 'grey','on_yellow'))\n",
    "                \n",
    "            else:\n",
    "                colored_text.append(t)\n",
    "                \n",
    "        content = \"\".join(colored_text)\n",
    "        colored_text = []\n",
    "        print(content)\n",
    "        df_m.loc[(df_m.XML == xml) & (df_m.ID == ID),'Content'] = content\n",
    "        # print('n_kw:', n_kw,'n_c:', n_c,'n_w:', n_w, 'n_s:', n_s, '\\n')\n",
    "\n",
    "        if i == len(df_m)-1:\n",
    "            df_f.loc[len(df_f)] = [xml,n_kw, n_c, n_w, n_s]\n",
    "        \n",
    "    return df_m, df_f"
   ]
  },
  {
   "cell_type": "code",
   "execution_count": 6,
   "metadata": {},
   "outputs": [
    {
     "name": "stdout",
     "output_type": "stream",
     "text": [
      "df.head(10):            XML ID                                              Title  \\\n",
      "0  test1-2.xml  0               Treatment for COVID-19: An overview.   \n",
      "1    test1.xml  0               Treatment for COVID-19: An overview.   \n",
      "2    test2.xml  0  Epidemiology of COVID-19 infection in young ch...   \n",
      "3    test3.xml  0  Neuropsychiatric aspects of COVID-19 pandemic:...   \n",
      "\n",
      "                                             Content  \n",
      "0    Coronavirus disease 2019 (COVID-19) is an in...  \n",
      "1    Coronavirus disease 2019 (COVID-19) is an in...  \n",
      "2    Emerging evidence suggests young children ar...  \n",
      "3    Corona virus disease (COVID-19) has been dec...  \n",
      "Search docs according to: Treatment\n",
      "test1-2.xml 0\n",
      "\u001b[43m\u001b[30mTreatment\u001b[0m for COVID-19:An overview.\n",
      "['Coronavirus disease 2019 (COVID-19) is an infectious disease caused by coronavirus-2 (SARS-CoV-2) that causes a severe acute respiratory syndrome, a characteristic hyperinflammatory response, vascular damage, microangiopathy, angiogenesis and widespread thrombosis...', 'Four stages of COVID-19 have been identified by Dr. Smith: the first stage is characterised by upper respiratory tract infection; the second by the onset of dyspnoea and pneumonia; the third by a worsening clinical scenario dominated by a cytokine storm and the consequent hyperinflammatory state; and the fourth by death or recovery.', 'Currently, no treatment can act specifically against the SARS-CoV-2 infection.', 'Based on the pathological features and different clinical phases of COVID-19, particularly in patients with moderate to severe COVID-19, the classes of drugs used are antiviral agents, inflammation inhibitors/antirheumatic drugs, low molecular weight heparins, plasma, and hyperimmune immunoglobulins.', 'During this emergency period of the COVID-19 outbreak, clinical researchers are using and testing a variety of possible treatments?', 'Based on these premises, this St. Peter review aims to discuss the most updated pharmacological treatments to effectively act against the SARS-CoV-2 infection and support researchers and clinicians in relation to any current and future developments in curing COVID-19 patients.']\n",
      "Coronavirus disease 2019 (COVID-19)is an infectious disease caused by coronavirus-2 (SARS-CoV-2)that causes a severe acute respiratory syndrome,a characteristic hyperinflammatory response,vascular damage,microangiopathy,angiogenesis and widespread thrombosis... Four stages of COVID-19 have been identified by Dr. Smith:the first stage is characterised by upper respiratory tract infection;the second by the onset of dyspnoea and pneumonia;the third by a worsening clinical scenario dominated by a cytokine storm and the consequent hyperinflammatory state;and the fourth by death or recovery. Currently,no treatment can act specifically against the SARS-CoV-2 infection. Based on the pathological features and different clinical phases of COVID-19,particularly in patients with moderate to severe COVID-19,the classes of drugs used are antiviral agents,inflammation inhibitors/antirheumatic drugs,low molecular weight heparins,plasma,and hyperimmune immunoglobulins. During this emergency period of the COVID-19 outbreak,clinical researchers are using and testing a variety of possible treatments? Based on these premises,this St. Peter review aims to discuss the most updated pharmacological treatments to effectively act against the SARS-CoV-2 infection and support researchers and clinicians in relation to any current and future developments in curing COVID-19 patients.\n",
      "test1.xml 0\n",
      "\u001b[43m\u001b[30mTreatment\u001b[0m for COVID-19:An overview.\n",
      "['Coronavirus disease 2019 (COVID-19) is an infectious disease caused by coronavirus-2 (SARS-CoV-2) that causes a severe acute respiratory syndrome, a characteristic hyperinflammatory response, vascular damage, microangiopathy, angiogenesis and widespread thrombosis.', 'Four stages of COVID-19 have been identified: the first stage is characterised by upper respiratory tract infection; the second by the onset of dyspnoea and pneumonia; the third by a worsening clinical scenario dominated by a cytokine storm and the consequent hyperinflammatory state; and the fourth by death or recovery.', 'Currently, no treatment can act specifically against the SARS-CoV-2 infection.', 'Based on the pathological features and different clinical phases of COVID-19, particularly in patients with moderate to severe COVID-19, the classes of drugs used are antiviral agents, inflammation inhibitors/antirheumatic drugs, low molecular weight heparins, plasma, and hyperimmune immunoglobulins.', 'During this emergency period of the COVID-19 outbreak, clinical researchers are using and testing a variety of possible treatments.', 'Based on these premises, this review aims to discuss the most updated pharmacological treatments to effectively act against the SARS-CoV-2 infection and support researchers and clinicians in relation to any current and future developments in curing COVID-19 patients.']\n",
      "Coronavirus disease 2019 (COVID-19)is an infectious disease caused by coronavirus-2 (SARS-CoV-2)that causes a severe acute respiratory syndrome,a characteristic hyperinflammatory response,vascular damage,microangiopathy,angiogenesis and widespread thrombosis. Four stages of COVID-19 have been identified:the first stage is characterised by upper respiratory tract infection;the second by the onset of dyspnoea and pneumonia;the third by a worsening clinical scenario dominated by a cytokine storm and the consequent hyperinflammatory state;and the fourth by death or recovery. Currently,no treatment can act specifically against the SARS-CoV-2 infection. Based on the pathological features and different clinical phases of COVID-19,particularly in patients with moderate to severe COVID-19,the classes of drugs used are antiviral agents,inflammation inhibitors/antirheumatic drugs,low molecular weight heparins,plasma,and hyperimmune immunoglobulins. During this emergency period of the COVID-19 outbreak,clinical researchers are using and testing a variety of possible treatments. Based on these premises,this review aims to discuss the most updated pharmacological treatments to effectively act against the SARS-CoV-2 infection and support researchers and clinicians in relation to any current and future developments in curing COVID-19 patients.\n"
     ]
    }
   ],
   "source": [
    "columns = [\"XML\",\"ID\",\"Title\",\"Content\"]\n",
    "df = pd.DataFrame(columns = columns)\n",
    "df_m = pd.DataFrame(columns = columns)\n",
    "\n",
    "f_col = [\"XML\",\"N_KW\",\"N_Char\",\"N_Word\",\"N_Sent\"]\n",
    "df_f = pd.DataFrame(columns = f_col)\n",
    "\n",
    "df = get_xml_content(ls_xml, path, df)\n",
    "print('df.head(10):',df.head(10))\n",
    "\n",
    "kw = input('Search docs according to: ')\n",
    "kw = kw.strip()\n",
    "\n",
    "df_m = get_xml_with_kw(df, df_m, kw)\n",
    "# print('df_m.head(10):',df_m.head(10))\n",
    "\n",
    "df_m, df_f = get_xml_statistics(df_m, df_f, kw)"
   ]
  },
  {
   "cell_type": "code",
   "execution_count": 7,
   "metadata": {},
   "outputs": [
    {
     "name": "stdout",
     "output_type": "stream",
     "text": [
      "The keyword is found in 2 XML file(s). \n",
      "\n",
      "           XML N_KW N_Char N_Word N_Sent\n",
      "0  test1-2.xml    1   1159    190      6\n",
      "1    test1.xml    1   1143    185      6\n"
     ]
    }
   ],
   "source": [
    "print('The keyword is found in {} XML file(s).'.format(len(df_f)), '\\n')\n",
    "print(df_f.head())"
   ]
  },
  {
   "cell_type": "code",
   "execution_count": 8,
   "metadata": {},
   "outputs": [],
   "source": [
    "def get_json_content(ls_json, path, df_j):\n",
    "    \n",
    "    for j in ls_json:\n",
    "\n",
    "        file = open(path + j, encoding = 'utf8')\n",
    "        array = json.load(file)\n",
    "\n",
    "        for item in array:\n",
    "            u_name = item['username']\n",
    "            time = item['tweet_time']\n",
    "            text = item['tweet_text'].strip('\"')            \n",
    "            df_j.loc[len(df_j)] = [j, u_name, time, text]\n",
    "    \n",
    "    return df_j"
   ]
  },
  {
   "cell_type": "code",
   "execution_count": 9,
   "metadata": {},
   "outputs": [],
   "source": [
    "def get_json_with_kw(df_j, df_jm, kw):\n",
    "    \n",
    "    for i, row in df_j.iterrows():\n",
    "        json = row['Json']\n",
    "        u_name = row['Username']\n",
    "        time = row['Time']\n",
    "        # print(json,u_name,time)\n",
    "        text = row['Text']\n",
    "        \n",
    "        if kw in text:\n",
    "\n",
    "            found = df_jm[df_jm['Json'].str.contains(json,na=False)].empty\n",
    "            # print('concat:',found)\n",
    "            \n",
    "            if found is True:\n",
    "                df_jm = pd.concat([df_jm, df_j.loc[df_j['Json'] == json]], axis=0, ignore_index=True)        \n",
    "\n",
    "        # else:\n",
    "            # print('The keyword can\\'t be found.' )\n",
    "        \n",
    "    return df_jm"
   ]
  },
  {
   "cell_type": "code",
   "execution_count": 10,
   "metadata": {},
   "outputs": [],
   "source": [
    "def get_json_statistics(df_jm, df_jf, kw):\n",
    "    \n",
    "    json = ''\n",
    "    n_kw = n_c = n_w = n_s = 0\n",
    "    colored_text = []\n",
    "    \n",
    "    for i, row in df_jm.iterrows():\n",
    "        \n",
    "        if json != row['Json'] :\n",
    "            \n",
    "            if i != 0:\n",
    "                df_jf.loc[len(df_jf)] = [json,n_kw, n_c, n_w, n_s]\n",
    "                n_kw = n_c = n_w = n_s = 0\n",
    "                \n",
    "            json = row['Json']\n",
    "\n",
    "        u_name = row['Username']\n",
    "        time = row['Time']\n",
    "        print(json, u_name, time)        \n",
    "        text = row['Text']\n",
    "\n",
    "        # n_s += len(sent_tokenize(text))\n",
    "        s = re.split(r'(?<=[^A-Z].[.?]) +(?=[A-Z])', text)\n",
    "        print(s)    \n",
    "        n_s += len(s) \n",
    "        print(text)\n",
    "        text_p = ''.join(c for c in text if c not in punctuation)\n",
    "        print(text_p)\n",
    "        n_c += len(text_p)-text_p.count(' ')\n",
    "        \n",
    "        words = word_tokenize(text_p)\n",
    "        words =[w.lower() for w in words if w.isalpha()]\n",
    "        # print(words)\n",
    "        n_w += len(words)\n",
    "        \n",
    "    \n",
    "\n",
    "        for t in re.split(r'(;|,|:|\\s|[()])\\s*',text):\n",
    "            \n",
    "            if t == kw:\n",
    "                n_kw += 1\n",
    "                colored_text.append(colored(t, 'grey','on_yellow'))\n",
    "                \n",
    "            else:\n",
    "                colored_text.append(t)\n",
    "                \n",
    "        text = \"\".join(colored_text)\n",
    "        print(text, '\\n')\n",
    "        colored_text = []\n",
    "        df_jm.loc[(df_jm.Json == json) & (df_jm.Username == u_name) & (df_jm.Time == time),'Text'] = text\n",
    "        # print('n_kw:', n_kw,'n_c:', n_c,'n_w:', n_w, 'n_s:', n_s, '\\n')\n",
    "\n",
    "\n",
    "        if i == len(df_jm)-1:\n",
    "            df_jf.loc[len(df_jf)] = [json, n_kw, n_c, n_w, n_s]\n",
    "        \n",
    "    return df_jm, df_jf"
   ]
  },
  {
   "cell_type": "code",
   "execution_count": 11,
   "metadata": {},
   "outputs": [],
   "source": [
    "jr_col = ['Json','Username', 'Time','Text']\n",
    "df_j = pd.DataFrame(columns = jr_col)\n",
    "df_jm = pd.DataFrame(columns = jr_col)\n",
    "\n",
    "jf_col = [\"Json\",\"N_KW\",\"N_Char\",\"N_Word\",\"N_Sent\"]\n",
    "df_jf = pd.DataFrame(columns = jf_col)\n",
    "\n",
    "df_j = get_json_content(ls_json, path, df_j)\n",
    "# print(df_j.head(10))\n",
    "\n",
    "# kw = input('Search docs according to: ')\n",
    "# kw = kw.strip()\n",
    "\n",
    "df_jm = get_json_with_kw(df_j, df_jm, kw)\n",
    "# print(df_jm.head(10))\n",
    "\n",
    "df_jm, df_jf = get_json_statistics(df_jm, df_jf, kw)"
   ]
  },
  {
   "cell_type": "code",
   "execution_count": 12,
   "metadata": {},
   "outputs": [
    {
     "name": "stdout",
     "output_type": "stream",
     "text": [
      "The keyword is found in 0 Json file(s). \n",
      "\n",
      "Empty DataFrame\n",
      "Columns: [Json, N_KW, N_Char, N_Word, N_Sent]\n",
      "Index: []\n"
     ]
    }
   ],
   "source": [
    "print('The keyword is found in {} Json file(s).'.format(len(df_jf)),'\\n')\n",
    "print(df_jf.head())"
   ]
  },
  {
   "cell_type": "code",
   "execution_count": 13,
   "metadata": {},
   "outputs": [
    {
     "data": {
      "image/png": "[encoded data removed]",
      "text/plain": [
       "<Figure size 432x288 with 1 Axes>"
      ]
     },
     "metadata": {
      "needs_background": "light"
     },
     "output_type": "display_data"
    },
    {
     "data": {
      "image/png": "[encoded data removed]",
      "text/plain": [
       "<Figure size 432x288 with 1 Axes>"
      ]
     },
     "metadata": {
      "needs_background": "light"
     },
     "output_type": "display_data"
    },
    {
     "data": {
      "image/png": "[encoded data removed]",
      "text/plain": [
       "<Figure size 432x288 with 1 Axes>"
      ]
     },
     "metadata": {
      "needs_background": "light"
     },
     "output_type": "display_data"
    },
    {
     "data": {
      "image/png": "[encoded data removed]",
      "text/plain": [
       "<Figure size 432x288 with 1 Axes>"
      ]
     },
     "metadata": {
      "needs_background": "light"
     },
     "output_type": "display_data"
    },
    {
     "data": {
      "image/png": "[encoded data removed]",
      "text/plain": [
       "<Figure size 432x288 with 1 Axes>"
      ]
     },
     "metadata": {
      "needs_background": "light"
     },
     "output_type": "display_data"
    },
    {
     "data": {
      "image/png": "[encoded data removed]",
      "text/plain": [
       "<Figure size 432x288 with 1 Axes>"
      ]
     },
     "metadata": {
      "needs_background": "light"
     },
     "output_type": "display_data"
    },
    {
     "data": {
      "image/png": "[encoded data removed]",
      "text/plain": [
       "<Figure size 432x288 with 1 Axes>"
      ]
     },
     "metadata": {
      "needs_background": "light"
     },
     "output_type": "display_data"
    },
    {
     "data": {
      "image/png": "[encoded data removed]",
      "text/plain": [
       "<Figure size 432x288 with 1 Axes>"
      ]
     },
     "metadata": {
      "needs_background": "light"
     },
     "output_type": "display_data"
    }
   ],
   "source": [
    "def addlabels(x,y):\n",
    "    for i in range(len(x)):\n",
    "        plt.text(i,y[i],y[i])\n",
    "        \n",
    "def draw_barchart(df_f):\n",
    "    col = list(df_f.columns)\n",
    "    xaxis = df_f[col[0]].to_list()\n",
    "\n",
    "    for i in range(1,len(col)):\n",
    "        yaxis = df_f[col[i]].to_list()\n",
    "        plt.bar(xaxis, yaxis)\n",
    "        plt.xlabel(col[0])\n",
    "        plt.ylabel(col[i])\n",
    "        addlabels(xaxis, yaxis)\n",
    "        plt.show()\n",
    "\n",
    "draw_barchart(df_f)\n",
    "draw_barchart(df_jf)"
   ]
  }
 ],
 "metadata": {
  "kernelspec": {
   "display_name": "Python 3",
   "language": "python",
   "name": "python3"
  },
  "language_info": {
   "codemirror_mode": {
    "name": "ipython",
    "version": 3
   },
   "file_extension": ".py",
   "mimetype": "text/x-python",
   "name": "python",
   "nbconvert_exporter": "python",
   "pygments_lexer": "ipython3",
   "version": "3.8.5"
  }
 },
 "nbformat": 4,
 "nbformat_minor": 4
}
